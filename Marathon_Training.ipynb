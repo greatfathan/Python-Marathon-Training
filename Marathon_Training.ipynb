{
  "nbformat": 4,
  "nbformat_minor": 0,
  "metadata": {
    "colab": {
      "provenance": [],
      "toc_visible": true,
      "authorship_tag": "ABX9TyOK6BAEzCMAbFVBC+LzUzA8",
      "include_colab_link": true
    },
    "kernelspec": {
      "name": "python3",
      "display_name": "Python 3"
    },
    "language_info": {
      "name": "python"
    }
  },
  "cells": [
    {
      "cell_type": "markdown",
      "metadata": {
        "id": "view-in-github",
        "colab_type": "text"
      },
      "source": [
        "<a href=\"https://colab.research.google.com/github/greatfathan/Python-Marathon-Training/blob/main/Marathon_Training.ipynb\" target=\"_parent\"><img src=\"https://colab.research.google.com/assets/colab-badge.svg\" alt=\"Open In Colab\"/></a>"
      ]
    },
    {
      "cell_type": "markdown",
      "source": [
        "# Company Email Generator"
      ],
      "metadata": {
        "id": "5m5UWm54-JJb"
      }
    },
    {
      "cell_type": "code",
      "source": [
        "User = input (\"Please enter your name and surname: \")\n",
        "User_Edit = User.replace(\" \",\"\")\n",
        "\n",
        "Company_Name = input (\"Please enter your company's name: \")\n",
        "Company_Edit = Company_Name.replace(\" \",\"\")\n",
        "\n",
        "Email_Address = User_Edit + \"@\" + Company_Edit + \".com\"\n",
        "Email_Edit = Email_Address.lower()\n",
        "\n",
        "print(\"Your new email address is: \", Email_Edit)"
      ],
      "metadata": {
        "colab": {
          "base_uri": "https://localhost:8080/"
        },
        "id": "KhdA72Yu4OxF",
        "outputId": "7f879de7-d23a-4d57-a37a-8ec71f5ce331"
      },
      "execution_count": 20,
      "outputs": [
        {
          "output_type": "stream",
          "name": "stdout",
          "text": [
            "Please enter your name and surname: Alice Chan\n",
            "Please enter your company's name: XYZ\n",
            "Your new email address is:  alicechan@xyz.com\n"
          ]
        }
      ]
    },
    {
      "cell_type": "markdown",
      "source": [
        "#BMI Calculator"
      ],
      "metadata": {
        "id": "qEq1uldrA0e0"
      }
    },
    {
      "cell_type": "code",
      "source": [
        "Height = float(input(\"Please enter your height(M): \"))\n",
        "Weight = int(input(\"Please enter your weight(KG): \"))\n",
        "\n",
        "BMI = Weight / Height ** 2\n",
        "print()\n",
        "print(\"Your BMI value is: \", BMI)"
      ],
      "metadata": {
        "colab": {
          "base_uri": "https://localhost:8080/"
        },
        "id": "ffVY2D6T4Ont",
        "outputId": "46e47d33-ea14-4fb2-e354-7ac8f9cf7d2d"
      },
      "execution_count": 22,
      "outputs": [
        {
          "output_type": "stream",
          "name": "stdout",
          "text": [
            "Please enter your height(M): 1.70\n",
            "Please enter your weight(KG): 90\n",
            "\n",
            "Your BMI value is:  31.14186851211073\n"
          ]
        }
      ]
    },
    {
      "cell_type": "markdown",
      "source": [
        "# Tip Calculator"
      ],
      "metadata": {
        "id": "ZbDmue5AB3bb"
      }
    },
    {
      "cell_type": "code",
      "source": [
        "bill = float(input(\"What was the total bill? $\"))\n",
        "tip = int(input(\"How much tip would you like to give (% from total bill)? 10, 12 or 15? \"))\n",
        "people = int (input(\"How many people to split the bill? \"))\n",
        "\n",
        "tip_as_percent = tip/100\n",
        "total_tip_amount = bill * tip_as_percent\n",
        "\n",
        "total_bill = bill + total_tip_amount\n",
        "\n",
        "bill_per_person = total_bill / people\n",
        "final_amount = round(bill_per_person, 2)\n",
        "\n",
        "print(f\"Each person should pay: ${final_amount}\")"
      ],
      "metadata": {
        "colab": {
          "base_uri": "https://localhost:8080/"
        },
        "id": "RxK8y1jI4OX2",
        "outputId": "e3ec27c7-80e2-487e-c7d1-70392f67baa6"
      },
      "execution_count": 24,
      "outputs": [
        {
          "output_type": "stream",
          "name": "stdout",
          "text": [
            "What was the total bill? $50\n",
            "How much tip would you like to give (% from total bill)? 10, 12 or 15? 10\n",
            "How many people to split the bill? 4\n",
            "Each person should pay: $13.75\n"
          ]
        }
      ]
    },
    {
      "cell_type": "code",
      "source": [],
      "metadata": {
        "id": "glsXzBvm4OL1"
      },
      "execution_count": null,
      "outputs": []
    },
    {
      "cell_type": "markdown",
      "source": [
        "# Bottle Deposit"
      ],
      "metadata": {
        "id": "3B2MR55ZJEJa"
      }
    },
    {
      "cell_type": "code",
      "source": [
        "Less_deposit = 0.12\n",
        "More_deposit = 0.27\n",
        "\n",
        "less = int(input(\"How many containers 1 liter or less? : \"))\n",
        "more = int(input(\"How many containers more than 1 liter? : \"))\n",
        "\n",
        "refund = less * Less_deposit + more * More_deposit\n",
        "print(\"Your total refund will be $%.2f.\" % refund)"
      ],
      "metadata": {
        "colab": {
          "base_uri": "https://localhost:8080/"
        },
        "id": "RrwBxBj_4N5t",
        "outputId": "6b9224fa-a1b9-4fe3-f6e2-03999220a351"
      },
      "execution_count": 28,
      "outputs": [
        {
          "output_type": "stream",
          "name": "stdout",
          "text": [
            "How many containers 1 liter or less? : 1\n",
            "How many containers more than 1 liter? : 2\n",
            "Your total refund will be $0.66.\n"
          ]
        }
      ]
    },
    {
      "cell_type": "markdown",
      "source": [
        "#Name The Shape"
      ],
      "metadata": {
        "id": "-i-6QBr5MjHa"
      }
    },
    {
      "cell_type": "code",
      "source": [
        "Num_sides = int(input(\"Enter the number of side? :\"))\n",
        "\n",
        "name = \"\"\n",
        "if Num_sides==3:\n",
        "  name = \"triangle\"\n",
        "elif Num_sides==4:\n",
        "  name = \"quadrilateral\"\n",
        "elif Num_sides==5:\n",
        "  name = \"pentagon\"\n",
        "elif Num_sides==6:\n",
        "  name = \"hexagon\"\n",
        "elif Num_sides==7:\n",
        "  name = \"heptagon\"\n",
        "elif Num_sides==8:\n",
        "  name = \"octagon\"\n",
        "elif Num_sides==9:\n",
        "  name = \"nonagon\"\n",
        "elif Num_sides==10:\n",
        "  name = \"decagon\"\n",
        "\n",
        "if name == \"\":\n",
        "  print(\"That number of sides is not supported by this program\")\n",
        "else:\n",
        "  print(\"That's a\", name)"
      ],
      "metadata": {
        "colab": {
          "base_uri": "https://localhost:8080/"
        },
        "id": "SoxqHCt1M1kA",
        "outputId": "2048b937-0e45-4771-c495-7a2c0045e222"
      },
      "execution_count": 30,
      "outputs": [
        {
          "output_type": "stream",
          "name": "stdout",
          "text": [
            "Enter the number of side? :9\n",
            "That's a nonagon\n"
          ]
        }
      ]
    },
    {
      "cell_type": "markdown",
      "source": [
        "#Admission Price"
      ],
      "metadata": {
        "id": "s0VkC61cPiNZ"
      }
    },
    {
      "cell_type": "code",
      "source": [
        "BABY_PRICE = 0.00\n",
        "CHILD_PRICE = 10.00\n",
        "ADULT_PRICE = 20.00\n",
        "SENIOR_PRICE = 16.00\n",
        "\n",
        "BABY_LIMIT = 2\n",
        "CHILD_LIMIT = 12\n",
        "ADULT_LIMIT =64\n",
        "\n",
        "total = 0"
      ],
      "metadata": {
        "id": "Fat5AyjHPhrh"
      },
      "execution_count": 32,
      "outputs": []
    },
    {
      "cell_type": "code",
      "source": [
        "line = input(\"Enter the age of the guest: \")\n",
        "while line !=\"\":\n",
        "  age = int(line)\n",
        "  if age  <= BABY_LIMIT:\n",
        "    total = total + BABY_PRICE\n",
        "  elif age <= CHILD_LIMIT:\n",
        "    total = total + CHILD_PRICE\n",
        "  elif age <= ADULT_LIMIT:\n",
        "    total = total + ADULT_PRICE\n",
        "  else:\n",
        "    total = total + SENIOR_PRICE\n",
        "  line = input(\"Enter the age of guest: \")\n",
        "print(\"The total for that group is $%.2f\" %total)"
      ],
      "metadata": {
        "colab": {
          "base_uri": "https://localhost:8080/"
        },
        "id": "yxr9wgD_kcII",
        "outputId": "0083a6e1-58ce-4f18-ee1a-7fdfd134f80b"
      },
      "execution_count": 37,
      "outputs": [
        {
          "output_type": "stream",
          "name": "stdout",
          "text": [
            "Enter the age of the guest: 2\n",
            "Enter the age of guest: 2\n",
            "Enter the age of guest: 33\n",
            "Enter the age of guest: \n",
            "The total for that group is $110.00\n"
          ]
        }
      ]
    },
    {
      "cell_type": "markdown",
      "source": [
        "#Note to Frequency"
      ],
      "metadata": {
        "id": "AdnA9ZAKA1LQ"
      }
    },
    {
      "cell_type": "code",
      "source": [
        "C4_FREQ = 261.63\n",
        "D4_FREQ = 293.66\n",
        "E4_FREQ = 329.63\n",
        "F4_FREQ = 349.23\n",
        "G4_FREQ = 392.00\n",
        "A4_FREQ = 440.00\n",
        "B4_FREQ = 493.88"
      ],
      "metadata": {
        "id": "p2sZurRqA0YZ"
      },
      "execution_count": 1,
      "outputs": []
    },
    {
      "cell_type": "code",
      "source": [
        "name = input(\"Enter Freq code [A-G4]: \")\n",
        "note = name[0]\n",
        "octave = int (name[1])\n",
        "\n",
        "if note == \"C\":\n",
        "  freq = C4_FREQ\n",
        "if note == \"D\":\n",
        "  freq = D4_FREQ\n",
        "if note == \"E\":\n",
        "  freq = E4_FREQ\n",
        "if note == \"F\":\n",
        "  freq = F4_FREQ\n",
        "if note == \"G\":\n",
        "  freq = G4_FREQ\n",
        "if note == \"A\":\n",
        "  freq = A4_FREQ\n",
        "if note == \"B\":\n",
        "  freq = B4_FREQ\n",
        "freq = freq / 2 **(4 - octave)\n",
        "\n",
        "print(\"The frequency of\", name, \"is\", freq)\n",
        "\n",
        ""
      ],
      "metadata": {
        "colab": {
          "base_uri": "https://localhost:8080/"
        },
        "id": "jaQBaIGKBYYt",
        "outputId": "df9c3c5d-0d37-41d7-bd9d-59bd0129d6d5"
      },
      "execution_count": 5,
      "outputs": [
        {
          "output_type": "stream",
          "name": "stdout",
          "text": [
            "Enter Freq code [A-G4]: B4\n",
            "The frequency of B4 is 493.88\n"
          ]
        }
      ]
    },
    {
      "cell_type": "markdown",
      "source": [
        "#Frequency to Note"
      ],
      "metadata": {
        "id": "ycxOWy6OJltm"
      }
    },
    {
      "cell_type": "code",
      "source": [
        "C4_FREQ = 261.63\n",
        "D4_FREQ = 293.66\n",
        "E4_FREQ = 329.63\n",
        "F4_FREQ = 349.23\n",
        "G4_FREQ = 392.00\n",
        "A4_FREQ = 440.00\n",
        "B4_FREQ = 493.88\n",
        "LIMIT = 5.0"
      ],
      "metadata": {
        "id": "O1b3zkmoJlYm"
      },
      "execution_count": 61,
      "outputs": []
    },
    {
      "cell_type": "code",
      "source": [
        "freq = float(input(\"Enter a frequency (Hz): \"))\n",
        "if (freq >= C4_FREQ - LIMIT) and (freq <= C4_FREQ + LIMIT):\n",
        "  note = \"C4\"\n",
        "elif (freq >= D4_FREQ - LIMIT) and (freq <= D4_FREQ + LIMIT):\n",
        "  note = \"D4\"\n",
        "elif (freq >= E4_FREQ - LIMIT) and (freq <= E4_FREQ + LIMIT):\n",
        "  note = \"E4\"\n",
        "elif (freq >= F4_FREQ - LIMIT) and (freq <= F4_FREQ + LIMIT):\n",
        "  note = \"F4\"\n",
        "elif (freq >= G4_FREQ - LIMIT) and (freq <= G4_FREQ + LIMIT):\n",
        "  note = \"G4\"\n",
        "elif (freq >= A4_FREQ - LIMIT) and (freq <= A4_FREQ + LIMIT):\n",
        "  note = \"A4\"\n",
        "elif (freq >= B4_FREQ - LIMIT) and (freq <= B4_FREQ + LIMIT):\n",
        "  note = \"B4\"\n",
        "else:\n",
        "  note = \"There is no note that corresponds to that frequency or set greater LIMIT\"\n",
        "print(\"That frequency is \", note)"
      ],
      "metadata": {
        "colab": {
          "base_uri": "https://localhost:8080/"
        },
        "id": "CRrgZmKUJlEu",
        "outputId": "a6fbbd5b-a56b-44a7-b019-38c8e7ecd9b7"
      },
      "execution_count": 63,
      "outputs": [
        {
          "output_type": "stream",
          "name": "stdout",
          "text": [
            "Enter a frequency (Hz): 444\n",
            "That frequency is  A4\n"
          ]
        }
      ]
    },
    {
      "cell_type": "markdown",
      "source": [
        "#Parity Bits"
      ],
      "metadata": {
        "id": "oUOPRe9wjg-a"
      }
    },
    {
      "cell_type": "code",
      "source": [
        "line = input(\"Enter 8 bits: \")\n",
        "while line != \"\":\n",
        "  if line.count(\"0\") + line.count(\"1\")!= 8:\n",
        "    print(\"That wasn't 8 bits ... Try again.\")\n",
        "  else:\n",
        "    ones = line.count(\"1\")\n",
        "    if ones %2 == 0:\n",
        "      print(\"The parity bit should be 0.\")\n",
        "    else:\n",
        "      print(\"The parity bit should be 1.\")\n",
        "  line=input(\"Enter 8 bits: \")\n"
      ],
      "metadata": {
        "colab": {
          "base_uri": "https://localhost:8080/"
        },
        "id": "4UH2LT2IjgWa",
        "outputId": "0bfd09ff-06f9-491c-ca2a-9aced740ad50"
      },
      "execution_count": 68,
      "outputs": [
        {
          "name": "stdout",
          "output_type": "stream",
          "text": [
            "Enter 8 bits: 000000000\n",
            "That wasn't 8 bits ... Try again.\n",
            "Enter 8 bits: 11001100\n",
            "The parity bit should be 0.\n",
            "Enter 8 bits: 001100111\n",
            "That wasn't 8 bits ... Try again.\n",
            "Enter 8 bits: \n"
          ]
        }
      ]
    },
    {
      "cell_type": "markdown",
      "source": [
        "# Reduce a Fraction to Lowest Terms\n"
      ],
      "metadata": {
        "id": "NFiQfbeh4W4G"
      }
    },
    {
      "cell_type": "code",
      "execution_count": 9,
      "metadata": {
        "id": "Ih-H6cDInily"
      },
      "outputs": [],
      "source": [
        "def gcd(n,m):\n",
        "  d = min(n,m)\n",
        "  while n % d !=0 or m % d !=0:\n",
        "    d = d-1\n",
        "  return d"
      ]
    },
    {
      "cell_type": "code",
      "source": [
        "def reduce (num,den):\n",
        "  if num == 0:\n",
        "    return(0,1)\n",
        "  g = gcd(num,den)\n",
        "  return (num // g, den // g)"
      ],
      "metadata": {
        "id": "rgYZ7CeXoMac"
      },
      "execution_count": 5,
      "outputs": []
    },
    {
      "cell_type": "code",
      "source": [
        "def main ():\n",
        "  num = int(input(\"Enter the numerator: \"))\n",
        "  den = int(input(\"Enter the denominator: \"))\n",
        "  n,d = reduce(num,den)\n",
        "  print(\"%d/%d can be reduced to %d/%d.\" % (num,den,n,d))"
      ],
      "metadata": {
        "id": "N53-GvBVpiP9"
      },
      "execution_count": 13,
      "outputs": []
    },
    {
      "cell_type": "code",
      "source": [
        "main()"
      ],
      "metadata": {
        "colab": {
          "base_uri": "https://localhost:8080/"
        },
        "id": "Hb0LjoUeqaWV",
        "outputId": "e47fafaa-fc75-4a6f-f857-180d0280d55a"
      },
      "execution_count": 21,
      "outputs": [
        {
          "output_type": "stream",
          "name": "stdout",
          "text": [
            "enter the numerator: 121\n",
            "Enter the denominator: 11\n",
            "121/11 can be reduced to 11/1.\n"
          ]
        }
      ]
    },
    {
      "cell_type": "code",
      "source": [],
      "metadata": {
        "id": "6mieZSCKqb7X"
      },
      "execution_count": 17,
      "outputs": []
    },
    {
      "cell_type": "markdown",
      "source": [
        "#Two Dice Simulation"
      ],
      "metadata": {
        "id": "S5P9N7V9o-8A"
      }
    },
    {
      "cell_type": "code",
      "source": [
        "from random import randrange"
      ],
      "metadata": {
        "id": "UC86XhBzputY"
      },
      "execution_count": 1,
      "outputs": []
    },
    {
      "cell_type": "code",
      "source": [
        "NUM_RUNS = 5\n",
        "D_MAX = 6"
      ],
      "metadata": {
        "id": "8MW4ds4Rp3Jg"
      },
      "execution_count": 2,
      "outputs": []
    },
    {
      "cell_type": "code",
      "source": [
        "def twoDice():\n",
        "  d1 = randrange(1, D_MAX +1)\n",
        "  d2 = randrange(1, D_MAX +1)\n",
        "  return d1 + d2"
      ],
      "metadata": {
        "id": "dtBZHCyFp9xS"
      },
      "execution_count": 3,
      "outputs": []
    },
    {
      "cell_type": "code",
      "source": [
        "def main():\n",
        "  expected = {2:1/36,3:2/36,4:3/36,5:4/36,6:5/36,7:6/36,8:5/36,9:4/36,10:3/36,11:2/36,12:1/36}\n",
        "  counts = {2:0, 3:0, 4:0, 5:0, 6:0, 7:0, 8:0, 9:0, 10:0, 11:0, 12:0}\n",
        "\n",
        "  for i in range(NUM_RUNS):\n",
        "    t = twoDice()\n",
        "    counts[t] = counts[t] + 1\n",
        "    print(\"Total Simulated Expected\")\n",
        "    print(\"Percent    Percent\")\n",
        "    for i in sorted(counts.keys()):\n",
        "      print(\"%5d %11.2f %8.2f\" %(i, counts[i]/ NUM_RUNS * 100, expected[i]*100))\n"
      ],
      "metadata": {
        "id": "Za-E46dkqSOP"
      },
      "execution_count": 4,
      "outputs": []
    },
    {
      "cell_type": "code",
      "source": [
        "main()\n"
      ],
      "metadata": {
        "colab": {
          "base_uri": "https://localhost:8080/"
        },
        "id": "TZShP1CHsRrS",
        "outputId": "c574d242-46cd-46f5-950e-52a251ad092e"
      },
      "execution_count": 5,
      "outputs": [
        {
          "output_type": "stream",
          "name": "stdout",
          "text": [
            "Total Simulated Expected\n",
            "Percent    Percent\n",
            "    2        0.00     2.78\n",
            "    3        0.00     5.56\n",
            "    4        0.00     8.33\n",
            "    5        0.00    11.11\n",
            "    6        0.00    13.89\n",
            "    7        0.00    16.67\n",
            "    8        0.00    13.89\n",
            "    9        0.00    11.11\n",
            "   10       20.00     8.33\n",
            "   11        0.00     5.56\n",
            "   12        0.00     2.78\n",
            "Total Simulated Expected\n",
            "Percent    Percent\n",
            "    2        0.00     2.78\n",
            "    3        0.00     5.56\n",
            "    4        0.00     8.33\n",
            "    5        0.00    11.11\n",
            "    6        0.00    13.89\n",
            "    7        0.00    16.67\n",
            "    8        0.00    13.89\n",
            "    9        0.00    11.11\n",
            "   10       40.00     8.33\n",
            "   11        0.00     5.56\n",
            "   12        0.00     2.78\n",
            "Total Simulated Expected\n",
            "Percent    Percent\n",
            "    2        0.00     2.78\n",
            "    3        0.00     5.56\n",
            "    4        0.00     8.33\n",
            "    5        0.00    11.11\n",
            "    6        0.00    13.89\n",
            "    7        0.00    16.67\n",
            "    8        0.00    13.89\n",
            "    9       20.00    11.11\n",
            "   10       40.00     8.33\n",
            "   11        0.00     5.56\n",
            "   12        0.00     2.78\n",
            "Total Simulated Expected\n",
            "Percent    Percent\n",
            "    2        0.00     2.78\n",
            "    3        0.00     5.56\n",
            "    4        0.00     8.33\n",
            "    5        0.00    11.11\n",
            "    6       20.00    13.89\n",
            "    7        0.00    16.67\n",
            "    8        0.00    13.89\n",
            "    9       20.00    11.11\n",
            "   10       40.00     8.33\n",
            "   11        0.00     5.56\n",
            "   12        0.00     2.78\n",
            "Total Simulated Expected\n",
            "Percent    Percent\n",
            "    2        0.00     2.78\n",
            "    3        0.00     5.56\n",
            "    4        0.00     8.33\n",
            "    5        0.00    11.11\n",
            "    6       40.00    13.89\n",
            "    7        0.00    16.67\n",
            "    8        0.00    13.89\n",
            "    9       20.00    11.11\n",
            "   10       40.00     8.33\n",
            "   11        0.00     5.56\n",
            "   12        0.00     2.78\n"
          ]
        }
      ]
    },
    {
      "cell_type": "markdown",
      "source": [
        "#String Edit Distance"
      ],
      "metadata": {
        "id": "jROIsz9ujQwZ"
      }
    },
    {
      "cell_type": "code",
      "source": [
        "def editDistance(s,t):\n",
        "  if len(s) == 0:\n",
        "    return len(t)\n",
        "  elif len(t) == 0:\n",
        "    return len(s)\n",
        "  else:\n",
        "    cost=0\n",
        "    if s[len(s)-1] != t[len(t) - 1]:\n",
        "      cost = 1\n",
        "    d1 = editDistance(s[0 : len(s) -1], t) + 1\n",
        "    d2 = editDistance(s, t[0 : len(t) -1]) + 1\n",
        "    d3 = editDistance(s[0 : len(s) -1], t[0 : len(t) -1]) + cost\n",
        "    return min(d1,d2,d3)"
      ],
      "metadata": {
        "id": "KjHWoyxHOefM"
      },
      "execution_count": 2,
      "outputs": []
    },
    {
      "cell_type": "code",
      "source": [
        "def main():\n",
        "  s1 = input(\"Enter a string: \")\n",
        "  s2 = input(\"Enter another string: \")\n",
        "  print(\"The edit distance between %s and %s is %d.\" % (s1,s2,editDistance(s1,s2)))"
      ],
      "metadata": {
        "id": "ZHTFSGInhSQI"
      },
      "execution_count": 5,
      "outputs": []
    },
    {
      "cell_type": "code",
      "source": [
        "main()\n"
      ],
      "metadata": {
        "colab": {
          "base_uri": "https://localhost:8080/"
        },
        "id": "GhoXYSZDh1ea",
        "outputId": "2669f378-908a-4f7c-c082-0466768ca2ab"
      },
      "execution_count": 7,
      "outputs": [
        {
          "output_type": "stream",
          "name": "stdout",
          "text": [
            "Enter a string: kitten\n",
            "Enter another string: button\n",
            "The edit distance between kitten and button is 3.\n"
          ]
        }
      ]
    },
    {
      "cell_type": "markdown",
      "source": [
        "\n",
        "#Run-Length Encoding\n"
      ],
      "metadata": {
        "id": "YZxlj49qjiLj"
      }
    },
    {
      "cell_type": "code",
      "source": [
        "def encode(data):\n",
        "  if len(data) == 0:\n",
        "    return[]\n",
        "  index = 1\n",
        "  while index < len(data) and data[index] == data[index - 1]:\n",
        "    index = index + 1\n",
        "  current = [data[0], index]\n",
        "  return current + encode(data[index:len(data)])"
      ],
      "metadata": {
        "id": "tThEJ1tNh3Dm"
      },
      "execution_count": 9,
      "outputs": []
    },
    {
      "cell_type": "code",
      "source": [
        "def main():\n",
        "  s = input(\"Enter some characters: \")\n",
        "  print(\"When those character are run-length encoded, the result is: \", encode(s))"
      ],
      "metadata": {
        "id": "CuEhVG6pjgET"
      },
      "execution_count": 10,
      "outputs": []
    },
    {
      "cell_type": "code",
      "source": [
        "main()"
      ],
      "metadata": {
        "colab": {
          "base_uri": "https://localhost:8080/"
        },
        "id": "y9gLKlcQkgtF",
        "outputId": "9b7777cd-234c-44fb-e20a-e52a8ac4be1a"
      },
      "execution_count": 12,
      "outputs": [
        {
          "output_type": "stream",
          "name": "stdout",
          "text": [
            "Enter some characters: ssaawwwww\n",
            "When those character are run-length encoded, the result is:  ['s', 2, 'a', 2, 'w', 5]\n"
          ]
        }
      ]
    },
    {
      "cell_type": "markdown",
      "source": [
        "#Caesar Chiper"
      ],
      "metadata": {
        "id": "krpBuYWKhjJw"
      }
    },
    {
      "cell_type": "code",
      "source": [
        "message = input(\"Enter the message: \")\n",
        "shift = int(input(\"Enter shift value: \"))\n",
        "\n",
        "new_message = \"\"\n",
        "for ch in message:\n",
        "  if ch >= \"a\" and ch <= \"z\":\n",
        "    pos = ord(ch) - ord(\"a\")\n",
        "    pos = (pos + shift) % 26\n",
        "    new_char = chr(pos + ord(\"a\"))\n",
        "    new_message = new_message + new_char\n",
        "  elif ch >= \"A\" and ch <= \"Z\":\n",
        "    pos = ord(ch) - ord(\"A\")\n",
        "    pos = (pos + shift) % 26\n",
        "    new_char = chr(pos + ord(\"A\"))\n",
        "    new_message = new_message + new_char\n",
        "  else:\n",
        "    new_message = new_message + ch\n",
        "print(\"the shifted message is\", new_message)"
      ],
      "metadata": {
        "colab": {
          "base_uri": "https://localhost:8080/"
        },
        "id": "2O5hdfMLkhgX",
        "outputId": "e9110839-e73c-4a43-f721-d065cdad6bc8"
      },
      "execution_count": 8,
      "outputs": [
        {
          "output_type": "stream",
          "name": "stdout",
          "text": [
            "Enter the message: Bismillah\n",
            "Enter shift value: 4\n",
            "the shifted message is Fmwqmppel\n"
          ]
        }
      ]
    },
    {
      "cell_type": "markdown",
      "source": [
        "#Number Guessing Projects"
      ],
      "metadata": {
        "id": "v8vt9nM_F5AD"
      }
    },
    {
      "cell_type": "code",
      "source": [
        "import random\n",
        "import time\n",
        "\n",
        "Random_Number = random.randint(1,100)\n",
        "Attempt = 7\n",
        "Counter = 0\n",
        "\n",
        "while True:\n",
        "  Guess = int(input(\"Enter your guess: \"))\n",
        "\n",
        "  if Counter > 6 or Attempt < 1:\n",
        "    print(\"You used all your attemps. Game Over ...\")\n",
        "    print(\"Our number is: \", Random_Number)\n",
        "    break\n",
        "  elif (Random_Number > Guess):\n",
        "    print(\"Comparing number...\")\n",
        "    time.sleep(1)\n",
        "    print(\"Your guess is lower than our number. Try again.\")\n",
        "    Attempt -= 1\n",
        "    Counter += 1\n",
        "  elif (Random_Number < Guess):\n",
        "    print (\"Comparing number..\")\n",
        "    time.sleep(1)\n",
        "    print(\"Your guess is higher than our number. try again.\")\n",
        "    Attempt -= 1\n",
        "    Counter += 1\n",
        "  else:\n",
        "    print(\"Comparing \")\n",
        "    print(\"Congratulations. Right guess. Our number is: \", Random_Number)\n",
        "    print (\"You guessed in\", Counter, \"attemps\")\n",
        "    break\n"
      ],
      "metadata": {
        "colab": {
          "base_uri": "https://localhost:8080/"
        },
        "id": "YM_bBg4wmdSF",
        "outputId": "a649b880-9bae-474d-9fb9-ca1ecf2a7ff9"
      },
      "execution_count": 3,
      "outputs": [
        {
          "output_type": "stream",
          "name": "stdout",
          "text": [
            "Enter your guess: 80\n",
            "Comparing number..\n",
            "Your guess is higher than our number. try again.\n",
            "Enter your guess: 60\n",
            "Comparing number...\n",
            "Your guess is lower than our number. Try again.\n",
            "Enter your guess: 70\n",
            "Comparing number...\n",
            "Your guess is lower than our number. Try again.\n",
            "Enter your guess: 73\n",
            "Comparing number...\n",
            "Your guess is lower than our number. Try again.\n",
            "Enter your guess: 77\n",
            "Comparing number...\n",
            "Your guess is lower than our number. Try again.\n",
            "Enter your guess: 79\n",
            "Comparing number..\n",
            "Your guess is higher than our number. try again.\n",
            "Enter your guess: 78\n",
            "Comparing \n",
            "Congratulations. Right guess. Our number is:  78\n",
            "You guessed in 6 attemps\n"
          ]
        }
      ]
    },
    {
      "cell_type": "code",
      "source": [
        "#Login Controller"
      ],
      "metadata": {
        "id": "D0oFTvcDHS0F"
      },
      "execution_count": 1,
      "outputs": []
    },
    {
      "cell_type": "code",
      "source": [
        "Sys_User_Name  = \"johnDoe\"\n",
        "Sys_Password = \"123456\"\n",
        "\n",
        "Attempts = 3\n",
        "\n",
        "while True:\n",
        "  User_Name = input(\"Please enter your user name: \")\n",
        "  User_Password = input(\"Please enter your password: \")\n",
        "\n",
        "  if User_Name != Sys_User_Name and User_Password == Sys_Password:\n",
        "    print(\"Wrong user name...\")\n",
        "    Attempts -= 1\n",
        "  elif User_Name == Sys_User_Name and User_Password != Sys_Password:\n",
        "    print(\"Wrong Password...\")\n",
        "    Attempts -= 1\n",
        "  elif User_Name != Sys_User_Name and User_Password != Sys_Password:\n",
        "    print(\"Wrong user name and Password...\")\n",
        "    Attempts -= 1\n",
        "  else:\n",
        "    print(\"Logged-in successfully\")\n",
        "    break\n",
        "\n",
        "  if Attempts == 0:\n",
        "    print(\"You no longer have access. Please contact system administrator\")\n",
        "    break\n",
        "\n",
        ""
      ],
      "metadata": {
        "colab": {
          "base_uri": "https://localhost:8080/"
        },
        "id": "ZP7W2_kSpkxU",
        "outputId": "90e76a64-4e0d-4a18-f750-72293a753be6"
      },
      "execution_count": 2,
      "outputs": [
        {
          "output_type": "stream",
          "name": "stdout",
          "text": [
            "Please enter your user name: k\n",
            "Please enter your password: 123456\n",
            "Wrong user name...\n",
            "Please enter your user name: jhonDoe\n",
            "Please enter your password: 222\n",
            "Wrong user name and Password...\n",
            "Please enter your user name: johnDoe\n",
            "Please enter your password: 123456\n",
            "Logged-in successfully\n"
          ]
        }
      ]
    },
    {
      "cell_type": "markdown",
      "source": [
        "#Password Generator"
      ],
      "metadata": {
        "id": "O2W24BUUsacW"
      }
    },
    {
      "cell_type": "code",
      "source": [
        "import random\n",
        "import string\n",
        "\n",
        "#letters = [f\"{i}{j}\" for i in [\"\", \"A\"] for j in string.ascii_uppercase]\n",
        "#['A', 'B', 'C', 'D', 'E', 'F', 'G', 'H', 'I', 'J', 'K', 'L', 'M', 'N', 'O', 'P', 'Q', 'R', 'S', 'T', 'U', 'V', 'W', 'X', 'Y', 'Z', 'AA', 'AB', 'AC', 'AD', 'AE', 'AF', 'AG', 'AH', 'AI', 'AJ', 'AK', 'AL', 'AM', 'AN', 'AO', 'AP', 'AQ', 'AR', 'AS', 'AT', 'AU', 'AV', 'AW', 'AX', 'AY', 'AZ']\n",
        "#illegals = [i for i in r'\\/:*?\"<>|']\n",
        "#letters = [f\"{x}\" for x in ['a'] for x in string.ascii_letters] #this work but not simple\n",
        "\n",
        "letters = [x for x in string.ascii_letters]\n",
        "print(letters)\n",
        "\n",
        "numbers = [f\"{i}\" for i in range(0,10)]\n",
        "print(numbers)\n",
        "\n",
        "symbols = list(r'!#$%&()*+')\n",
        "print(symbols)"
      ],
      "metadata": {
        "colab": {
          "base_uri": "https://localhost:8080/"
        },
        "id": "Jhc9p1MbvYEk",
        "outputId": "b36aa9cd-b0d3-449f-c56b-0343486390be"
      },
      "execution_count": 34,
      "outputs": [
        {
          "output_type": "stream",
          "name": "stdout",
          "text": [
            "['a', 'b', 'c', 'd', 'e', 'f', 'g', 'h', 'i', 'j', 'k', 'l', 'm', 'n', 'o', 'p', 'q', 'r', 's', 't', 'u', 'v', 'w', 'x', 'y', 'z', 'A', 'B', 'C', 'D', 'E', 'F', 'G', 'H', 'I', 'J', 'K', 'L', 'M', 'N', 'O', 'P', 'Q', 'R', 'S', 'T', 'U', 'V', 'W', 'X', 'Y', 'Z']\n",
            "['0', '1', '2', '3', '4', '5', '6', '7', '8', '9']\n",
            "['!', '#', '$', '%', '&', '(', ')', '*', '+']\n"
          ]
        }
      ]
    },
    {
      "cell_type": "code",
      "source": [
        "nr_letter = int(input(\"How many letters would you like in your password? \\n\"))\n",
        "nr_symbols = int(input(f\"How many symbols would you like?\\n\"))\n",
        "nr_numbers = int(input(f\"How many numbers would you like?\\n\"))\n",
        "\n",
        "password_list = []\n",
        "\n",
        "for char in range(1, nr_letter +1):\n",
        "  password_list.append(random.choice(letters))\n",
        "for char in range(1,nr_symbols +1):\n",
        "  password_list.append(random.choice(symbols))\n",
        "for char in range(1,nr_numbers +1):\n",
        "  password_list.append(random.choice(numbers))\n",
        "\n",
        "print(password_list)\n",
        "\n",
        "random.shuffle(password_list)\n",
        "print(password_list)\n",
        "\n",
        "password = \"\"\n",
        "for char in password_list:\n",
        "  password += char\n",
        "\n",
        "print(f\"Your password is: {password}\")\n",
        "\n",
        "\n"
      ],
      "metadata": {
        "colab": {
          "base_uri": "https://localhost:8080/"
        },
        "id": "XpLPsFlHrySx",
        "outputId": "9ae43ddb-bce8-49d7-fff7-784ab098c574"
      },
      "execution_count": 36,
      "outputs": [
        {
          "output_type": "stream",
          "name": "stdout",
          "text": [
            "How many letters would you like in your password? \n",
            "6\n",
            "How many symbols would you like?\n",
            "3\n",
            "How many numbers would you like?\n",
            "5\n",
            "['r', 'Y', 'B', 'K', 'P', 'f', '&', '#', '$', '7', '3', '0', '8', '3']\n",
            "['r', '#', 'B', 'P', '7', '3', '8', 'K', 'f', '0', 'Y', '3', '&', '$']\n",
            "Your password is: r#BP738Kf0Y3&$\n"
          ]
        }
      ]
    },
    {
      "cell_type": "markdown",
      "source": [
        "#Sorted Order"
      ],
      "metadata": {
        "id": "GspHVFJ_StZB"
      }
    },
    {
      "cell_type": "code",
      "source": [
        "data = []\n",
        "num = int(input(\"Enter an integer (0 to quit): \"))\n",
        "while num != 0:\n",
        "  data.append(num)\n",
        "  num = int(input(\"Enter an integer (0 to quit): \"))\n",
        "data.sort()\n",
        "print(\"The values, sorted into ascending order, are: \")\n",
        "for num in data:\n",
        "  print(num)"
      ],
      "metadata": {
        "colab": {
          "base_uri": "https://localhost:8080/"
        },
        "id": "atf9S-TENrBU",
        "outputId": "96e35ac7-738e-4307-cd1d-f7d02e2284bf"
      },
      "execution_count": 37,
      "outputs": [
        {
          "output_type": "stream",
          "name": "stdout",
          "text": [
            "Enter an integer (0 to quit): 333\n",
            "Enter an integer (0 to quit): 32\n",
            "Enter an integer (0 to quit): 32\n",
            "Enter an integer (0 to quit): 54\n",
            "Enter an integer (0 to quit): 21\n",
            "Enter an integer (0 to quit): 441\n",
            "Enter an integer (0 to quit): 1332\n",
            "Enter an integer (0 to quit): 0\n",
            "The values, sorted into ascending order, are: \n",
            "21\n",
            "32\n",
            "32\n",
            "54\n",
            "333\n",
            "441\n",
            "1332\n"
          ]
        }
      ]
    },
    {
      "cell_type": "markdown",
      "source": [
        "#Fibonancci"
      ],
      "metadata": {
        "id": "WOSMtiPdWxkN"
      }
    },
    {
      "cell_type": "code",
      "source": [
        "nterms = int(input(\"How many terms? \"))\n",
        "\n",
        "# first two terms\n",
        "n1, n2 = 0, 1\n",
        "count = 0\n",
        "\n",
        "# check if the number of terms is valid\n",
        "if nterms <= 0:\n",
        "   print(\"Please enter a positive integer\")\n",
        "# if there is only one term, return n1\n",
        "elif nterms == 1:\n",
        "   print(\"Fibonacci sequence upto\",nterms,\":\")\n",
        "   print(n1)\n",
        "# generate fibonacci sequence\n",
        "else:\n",
        "   print(\"Fibonacci sequence:\")\n",
        "   while count < nterms:\n",
        "       print(n1)\n",
        "       nth = n1 + n2\n",
        "       # update values\n",
        "       n1 = n2\n",
        "       n2 = nth\n",
        "       count += 1"
      ],
      "metadata": {
        "colab": {
          "base_uri": "https://localhost:8080/"
        },
        "id": "Z7ClPTuKTbSE",
        "outputId": "51d4a17e-f134-4df1-9501-86f9e953bb98"
      },
      "execution_count": 39,
      "outputs": [
        {
          "output_type": "stream",
          "name": "stdout",
          "text": [
            "How many terms? 9\n",
            "Fibonacci sequence:\n",
            "0\n",
            "1\n",
            "1\n",
            "2\n",
            "3\n",
            "5\n",
            "8\n",
            "13\n",
            "21\n"
          ]
        }
      ]
    },
    {
      "cell_type": "markdown",
      "source": [
        "#Finding Prime Number"
      ],
      "metadata": {
        "id": "GKGPn1AbIzwK"
      }
    },
    {
      "cell_type": "code",
      "source": [
        "def Is_Prime(Number):\n",
        "  if Number == 1:\n",
        "    return False\n",
        "  elif Number == 2:\n",
        "    return True\n",
        "  else:\n",
        "    for i in range(2, Number):\n",
        "      if Number %i == 0:\n",
        "        return False\n",
        "    return True"
      ],
      "metadata": {
        "id": "r1r1Dme3XtzN"
      },
      "execution_count": 47,
      "outputs": []
    },
    {
      "cell_type": "code",
      "source": [
        "while True:\n",
        "  Number = input(\"Please enter a positive number: \")\n",
        "  if Number == \"q\" or Number == \"Q\":\n",
        "    break\n",
        "  else:\n",
        "    Number = int(Number)\n",
        "  if Is_Prime(Number):\n",
        "    print(Number, \" is a prime number.\")\n",
        "  else:\n",
        "    print(Number, \" is not a prime number.\")"
      ],
      "metadata": {
        "colab": {
          "base_uri": "https://localhost:8080/"
        },
        "id": "KVlfEbZmJfsr",
        "outputId": "9b7757a6-7da3-4d4b-d78c-19048bb4c096"
      },
      "execution_count": 48,
      "outputs": [
        {
          "name": "stdout",
          "output_type": "stream",
          "text": [
            "Please enter a positive number: 7\n",
            "7  is a prime number.\n",
            "Please enter a positive number: 6\n",
            "6  is not a prime number.\n",
            "Please enter a positive number: 89\n",
            "89  is a prime number.\n",
            "Please enter a positive number: 8\n",
            "8  is not a prime number.\n",
            "Please enter a positive number: q\n"
          ]
        }
      ]
    },
    {
      "cell_type": "code",
      "source": [],
      "metadata": {
        "id": "T3GGXuWMKWAZ"
      },
      "execution_count": null,
      "outputs": []
    }
  ]
}