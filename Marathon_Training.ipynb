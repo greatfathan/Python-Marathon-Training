{
  "nbformat": 4,
  "nbformat_minor": 0,
  "metadata": {
    "colab": {
      "provenance": [],
      "toc_visible": true,
      "authorship_tag": "ABX9TyMhTAvoGeymvUGjGvovGEw1",
      "include_colab_link": true
    },
    "kernelspec": {
      "name": "python3",
      "display_name": "Python 3"
    },
    "language_info": {
      "name": "python"
    }
  },
  "cells": [
    {
      "cell_type": "markdown",
      "metadata": {
        "id": "view-in-github",
        "colab_type": "text"
      },
      "source": [
        "<a href=\"https://colab.research.google.com/github/greatfathan/Python-Marathon-Training/blob/main/Marathon_Training.ipynb\" target=\"_parent\"><img src=\"https://colab.research.google.com/assets/colab-badge.svg\" alt=\"Open In Colab\"/></a>"
      ]
    },
    {
      "cell_type": "code",
      "source": [],
      "metadata": {
        "id": "ke7aE09G4O5N"
      },
      "execution_count": null,
      "outputs": []
    },
    {
      "cell_type": "markdown",
      "source": [
        "# Company Email Generator"
      ],
      "metadata": {
        "id": "5m5UWm54-JJb"
      }
    },
    {
      "cell_type": "code",
      "source": [
        "User = input (\"Please enter your name and surname: \")\n",
        "User_Edit = User.replace(\" \",\"\")\n",
        "\n",
        "Company_Name = input (\"Please enter your company's name: \")\n",
        "Company_Edit = Company_Name.replace(\" \",\"\")\n",
        "\n",
        "Email_Address = User_Edit + \"@\" + Company_Edit + \".com\"\n",
        "Email_Edit = Email_Address.lower()\n",
        "\n",
        "print(\"Your new email address is: \", Email_Edit)"
      ],
      "metadata": {
        "colab": {
          "base_uri": "https://localhost:8080/"
        },
        "id": "KhdA72Yu4OxF",
        "outputId": "7f879de7-d23a-4d57-a37a-8ec71f5ce331"
      },
      "execution_count": 20,
      "outputs": [
        {
          "output_type": "stream",
          "name": "stdout",
          "text": [
            "Please enter your name and surname: Alice Chan\n",
            "Please enter your company's name: XYZ\n",
            "Your new email address is:  alicechan@xyz.com\n"
          ]
        }
      ]
    },
    {
      "cell_type": "code",
      "source": [],
      "metadata": {
        "id": "-GAMM0nA4Oqt"
      },
      "execution_count": null,
      "outputs": []
    },
    {
      "cell_type": "markdown",
      "source": [
        "#BMI Calculator"
      ],
      "metadata": {
        "id": "qEq1uldrA0e0"
      }
    },
    {
      "cell_type": "code",
      "source": [
        "Height = float(input(\"Please enter your height(M): \"))\n",
        "Weight = int(input(\"Please enter your weight(KG): \"))\n",
        "\n",
        "BMI = Weight / Height ** 2\n",
        "print()\n",
        "print(\"Your BMI value is: \", BMI)"
      ],
      "metadata": {
        "colab": {
          "base_uri": "https://localhost:8080/"
        },
        "id": "ffVY2D6T4Ont",
        "outputId": "46e47d33-ea14-4fb2-e354-7ac8f9cf7d2d"
      },
      "execution_count": 22,
      "outputs": [
        {
          "output_type": "stream",
          "name": "stdout",
          "text": [
            "Please enter your height(M): 1.70\n",
            "Please enter your weight(KG): 90\n",
            "\n",
            "Your BMI value is:  31.14186851211073\n"
          ]
        }
      ]
    },
    {
      "cell_type": "code",
      "source": [],
      "metadata": {
        "id": "us3zBXH14Oh9"
      },
      "execution_count": null,
      "outputs": []
    },
    {
      "cell_type": "markdown",
      "source": [
        "# Tip Calculator"
      ],
      "metadata": {
        "id": "ZbDmue5AB3bb"
      }
    },
    {
      "cell_type": "code",
      "source": [
        "bill = float(input(\"What was the total bill? $\"))\n",
        "tip = int(input(\"How much tip would you like to give (% from total bill)? 10, 12 or 15? \"))\n",
        "people = int (input(\"How many people to split the bill? \"))\n",
        "\n",
        "tip_as_percent = tip/100\n",
        "total_tip_amount = bill * tip_as_percent\n",
        "\n",
        "total_bill = bill + total_tip_amount\n",
        "\n",
        "bill_per_person = total_bill / people\n",
        "final_amount = round(bill_per_person, 2)\n",
        "\n",
        "print(f\"Each person should pay: ${final_amount}\")"
      ],
      "metadata": {
        "colab": {
          "base_uri": "https://localhost:8080/"
        },
        "id": "RxK8y1jI4OX2",
        "outputId": "e3ec27c7-80e2-487e-c7d1-70392f67baa6"
      },
      "execution_count": 24,
      "outputs": [
        {
          "output_type": "stream",
          "name": "stdout",
          "text": [
            "What was the total bill? $50\n",
            "How much tip would you like to give (% from total bill)? 10, 12 or 15? 10\n",
            "How many people to split the bill? 4\n",
            "Each person should pay: $13.75\n"
          ]
        }
      ]
    },
    {
      "cell_type": "code",
      "source": [],
      "metadata": {
        "id": "glsXzBvm4OL1"
      },
      "execution_count": null,
      "outputs": []
    },
    {
      "cell_type": "markdown",
      "source": [
        "# Bottle Deposit"
      ],
      "metadata": {
        "id": "3B2MR55ZJEJa"
      }
    },
    {
      "cell_type": "code",
      "source": [
        "Less_deposit = 0.12\n",
        "More_deposit = 0.27\n",
        "\n",
        "less = int(input(\"How many containers 1 liter or less? : \"))\n",
        "more = int(input(\"How many containers more than 1 liter? : \"))\n",
        "\n",
        "refund = less * Less_deposit + more * More_deposit\n",
        "print(\"Your total refund will be $%.2f.\" % refund)"
      ],
      "metadata": {
        "colab": {
          "base_uri": "https://localhost:8080/"
        },
        "id": "RrwBxBj_4N5t",
        "outputId": "6b9224fa-a1b9-4fe3-f6e2-03999220a351"
      },
      "execution_count": 28,
      "outputs": [
        {
          "output_type": "stream",
          "name": "stdout",
          "text": [
            "How many containers 1 liter or less? : 1\n",
            "How many containers more than 1 liter? : 2\n",
            "Your total refund will be $0.66.\n"
          ]
        }
      ]
    },
    {
      "cell_type": "markdown",
      "source": [
        "#Name The Shape"
      ],
      "metadata": {
        "id": "-i-6QBr5MjHa"
      }
    },
    {
      "cell_type": "code",
      "source": [
        "Num_sides = int(input(\"Enter the number of side? :\"))\n",
        "\n",
        "name = \"\"\n",
        "if Num_sides==3:\n",
        "  name = \"triangle\"\n",
        "elif Num_sides==4:\n",
        "  name = \"quadrilateral\"\n",
        "elif Num_sides==5:\n",
        "  name = \"pentagon\"\n",
        "elif Num_sides==6:\n",
        "  name = \"hexagon\"\n",
        "elif Num_sides==7:\n",
        "  name = \"heptagon\"\n",
        "elif Num_sides==8:\n",
        "  name = \"octagon\"\n",
        "elif Num_sides==9:\n",
        "  name = \"nonagon\"\n",
        "elif Num_sides==10:\n",
        "  name = \"decagon\"\n",
        "\n",
        "if name == \"\":\n",
        "  print(\"That number of sides is not supported by this program\")\n",
        "else:\n",
        "  print(\"That's a\", name)"
      ],
      "metadata": {
        "colab": {
          "base_uri": "https://localhost:8080/"
        },
        "id": "SoxqHCt1M1kA",
        "outputId": "2048b937-0e45-4771-c495-7a2c0045e222"
      },
      "execution_count": 30,
      "outputs": [
        {
          "output_type": "stream",
          "name": "stdout",
          "text": [
            "Enter the number of side? :9\n",
            "That's a nonagon\n"
          ]
        }
      ]
    },
    {
      "cell_type": "markdown",
      "source": [
        "# Reduce a Fraction to Lowest Terms2   "
      ],
      "metadata": {
        "id": "NFiQfbeh4W4G"
      }
    },
    {
      "cell_type": "code",
      "execution_count": 9,
      "metadata": {
        "id": "Ih-H6cDInily"
      },
      "outputs": [],
      "source": [
        "def gcd(n,m):\n",
        "  d = min(n,m)\n",
        "  while n % d !=0 or m % d !=0:\n",
        "    d = d-1\n",
        "  return d"
      ]
    },
    {
      "cell_type": "code",
      "source": [
        "def reduce (num,den):\n",
        "  if num == 0:\n",
        "    return(0,1)\n",
        "  g = gcd(num,den)\n",
        "  return (num // g, den // g)"
      ],
      "metadata": {
        "id": "rgYZ7CeXoMac"
      },
      "execution_count": 5,
      "outputs": []
    },
    {
      "cell_type": "code",
      "source": [
        "def main ():\n",
        "  num = int(input(\"Enter the numerator: \"))\n",
        "  den = int(input(\"Enter the denominator: \"))\n",
        "  n,d = reduce(num,den)\n",
        "  print(\"%d/%d can be reduced to %d/%d.\" % (num,den,n,d))"
      ],
      "metadata": {
        "id": "N53-GvBVpiP9"
      },
      "execution_count": 13,
      "outputs": []
    },
    {
      "cell_type": "code",
      "source": [
        "main()"
      ],
      "metadata": {
        "colab": {
          "base_uri": "https://localhost:8080/"
        },
        "id": "Hb0LjoUeqaWV",
        "outputId": "e47fafaa-fc75-4a6f-f857-180d0280d55a"
      },
      "execution_count": 21,
      "outputs": [
        {
          "output_type": "stream",
          "name": "stdout",
          "text": [
            "enter the numerator: 121\n",
            "Enter the denominator: 11\n",
            "121/11 can be reduced to 11/1.\n"
          ]
        }
      ]
    },
    {
      "cell_type": "code",
      "source": [],
      "metadata": {
        "id": "6mieZSCKqb7X"
      },
      "execution_count": 17,
      "outputs": []
    }
  ]
}