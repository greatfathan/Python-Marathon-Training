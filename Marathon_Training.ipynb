{
  "nbformat": 4,
  "nbformat_minor": 0,
  "metadata": {
    "colab": {
      "provenance": [],
      "toc_visible": true,
      "authorship_tag": "ABX9TyM9QW1Lb8oYu3LhB2yr0y6/",
      "include_colab_link": true
    },
    "kernelspec": {
      "name": "python3",
      "display_name": "Python 3"
    },
    "language_info": {
      "name": "python"
    }
  },
  "cells": [
    {
      "cell_type": "markdown",
      "metadata": {
        "id": "view-in-github",
        "colab_type": "text"
      },
      "source": [
        "<a href=\"https://colab.research.google.com/github/greatfathan/Python-Marathon-Training/blob/main/Marathon_Training.ipynb\" target=\"_parent\"><img src=\"https://colab.research.google.com/assets/colab-badge.svg\" alt=\"Open In Colab\"/></a>"
      ]
    },
    {
      "cell_type": "code",
      "source": [],
      "metadata": {
        "id": "ke7aE09G4O5N"
      },
      "execution_count": null,
      "outputs": []
    },
    {
      "cell_type": "markdown",
      "source": [
        "# Company Email Generator"
      ],
      "metadata": {
        "id": "5m5UWm54-JJb"
      }
    },
    {
      "cell_type": "code",
      "source": [
        "User = input (\"Please enter your name and surname: \")\n",
        "User_Edit = User.replace(\" \",\"\")\n",
        "\n",
        "Company_Name = input (\"Please enter your company's name: \")\n",
        "Company_Edit = Company_Name.replace(\" \",\"\")\n",
        "\n",
        "Email_Address = User_Edit + \"@\" + Company_Edit + \".com\"\n",
        "Email_Edit = Email_Address.lower()\n",
        "\n",
        "print(\"Your new email address is: \", Email_Edit)"
      ],
      "metadata": {
        "colab": {
          "base_uri": "https://localhost:8080/"
        },
        "id": "KhdA72Yu4OxF",
        "outputId": "7f879de7-d23a-4d57-a37a-8ec71f5ce331"
      },
      "execution_count": 20,
      "outputs": [
        {
          "output_type": "stream",
          "name": "stdout",
          "text": [
            "Please enter your name and surname: Alice Chan\n",
            "Please enter your company's name: XYZ\n",
            "Your new email address is:  alicechan@xyz.com\n"
          ]
        }
      ]
    },
    {
      "cell_type": "code",
      "source": [],
      "metadata": {
        "id": "-GAMM0nA4Oqt"
      },
      "execution_count": null,
      "outputs": []
    },
    {
      "cell_type": "markdown",
      "source": [
        "#BMI Calculator"
      ],
      "metadata": {
        "id": "qEq1uldrA0e0"
      }
    },
    {
      "cell_type": "code",
      "source": [
        "Height = float(input(\"Please enter your height(M): \"))\n",
        "Weight = int(input(\"Please enter your weight(KG): \"))\n",
        "\n",
        "BMI = Weight / Height ** 2\n",
        "print()\n",
        "print(\"Your BMI value is: \", BMI)"
      ],
      "metadata": {
        "colab": {
          "base_uri": "https://localhost:8080/"
        },
        "id": "ffVY2D6T4Ont",
        "outputId": "46e47d33-ea14-4fb2-e354-7ac8f9cf7d2d"
      },
      "execution_count": 22,
      "outputs": [
        {
          "output_type": "stream",
          "name": "stdout",
          "text": [
            "Please enter your height(M): 1.70\n",
            "Please enter your weight(KG): 90\n",
            "\n",
            "Your BMI value is:  31.14186851211073\n"
          ]
        }
      ]
    },
    {
      "cell_type": "code",
      "source": [],
      "metadata": {
        "id": "us3zBXH14Oh9"
      },
      "execution_count": null,
      "outputs": []
    },
    {
      "cell_type": "code",
      "source": [],
      "metadata": {
        "id": "gNRbVgal4Odu"
      },
      "execution_count": null,
      "outputs": []
    },
    {
      "cell_type": "code",
      "source": [],
      "metadata": {
        "id": "RxK8y1jI4OX2"
      },
      "execution_count": null,
      "outputs": []
    },
    {
      "cell_type": "code",
      "source": [],
      "metadata": {
        "id": "glsXzBvm4OL1"
      },
      "execution_count": null,
      "outputs": []
    },
    {
      "cell_type": "code",
      "source": [],
      "metadata": {
        "id": "RrwBxBj_4N5t"
      },
      "execution_count": null,
      "outputs": []
    },
    {
      "cell_type": "markdown",
      "source": [
        "# Reduce a Fraction to Lowest Terms"
      ],
      "metadata": {
        "id": "NFiQfbeh4W4G"
      }
    },
    {
      "cell_type": "code",
      "execution_count": 9,
      "metadata": {
        "id": "Ih-H6cDInily"
      },
      "outputs": [],
      "source": [
        "def gcd(n,m):\n",
        "  d = min(n,m)\n",
        "  while n % d !=0 or m % d !=0:\n",
        "    d = d-1\n",
        "  return d"
      ]
    },
    {
      "cell_type": "code",
      "source": [
        "def reduce (num,den):\n",
        "  if num == 0:\n",
        "    return(0,1)\n",
        "  g = gcd(num,den)\n",
        "  return (num // g, den // g)"
      ],
      "metadata": {
        "id": "rgYZ7CeXoMac"
      },
      "execution_count": 5,
      "outputs": []
    },
    {
      "cell_type": "code",
      "source": [
        "def main ():\n",
        "  num = int(input(\"Enter the numerator: \"))\n",
        "  den = int(input(\"Enter the denominator: \"))\n",
        "  n,d = reduce(num,den)\n",
        "  print(\"%d/%d can be reduced to %d/%d.\" % (num,den,n,d))"
      ],
      "metadata": {
        "id": "N53-GvBVpiP9"
      },
      "execution_count": 13,
      "outputs": []
    },
    {
      "cell_type": "code",
      "source": [
        "main()"
      ],
      "metadata": {
        "colab": {
          "base_uri": "https://localhost:8080/"
        },
        "id": "Hb0LjoUeqaWV",
        "outputId": "e47fafaa-fc75-4a6f-f857-180d0280d55a"
      },
      "execution_count": 21,
      "outputs": [
        {
          "output_type": "stream",
          "name": "stdout",
          "text": [
            "enter the numerator: 121\n",
            "Enter the denominator: 11\n",
            "121/11 can be reduced to 11/1.\n"
          ]
        }
      ]
    },
    {
      "cell_type": "code",
      "source": [],
      "metadata": {
        "id": "6mieZSCKqb7X"
      },
      "execution_count": 17,
      "outputs": []
    }
  ]
}