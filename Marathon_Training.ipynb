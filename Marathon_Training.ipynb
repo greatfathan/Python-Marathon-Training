{
  "nbformat": 4,
  "nbformat_minor": 0,
  "metadata": {
    "colab": {
      "provenance": [],
      "toc_visible": true,
      "authorship_tag": "ABX9TyNxd+HfS31Z9occdSjMgsRy",
      "include_colab_link": true
    },
    "kernelspec": {
      "name": "python3",
      "display_name": "Python 3"
    },
    "language_info": {
      "name": "python"
    }
  },
  "cells": [
    {
      "cell_type": "markdown",
      "metadata": {
        "id": "view-in-github",
        "colab_type": "text"
      },
      "source": [
        "<a href=\"https://colab.research.google.com/github/greatfathan/Python-Marathon-Training/blob/main/Marathon_Training.ipynb\" target=\"_parent\"><img src=\"https://colab.research.google.com/assets/colab-badge.svg\" alt=\"Open In Colab\"/></a>"
      ]
    },
    {
      "cell_type": "code",
      "source": [],
      "metadata": {
        "id": "ke7aE09G4O5N"
      },
      "execution_count": null,
      "outputs": []
    },
    {
      "cell_type": "markdown",
      "source": [
        "# Company Email Generator"
      ],
      "metadata": {
        "id": "5m5UWm54-JJb"
      }
    },
    {
      "cell_type": "code",
      "source": [
        "User = input (\"Please enter your name and surname: \")\n",
        "User_Edit = User.replace(\" \",\"\")\n",
        "\n",
        "Company_Name = input (\"Please enter your company's name: \")\n",
        "Company_Edit = Company_Name.replace(\" \",\"\")\n",
        "\n",
        "Email_Address = User_Edit + \"@\" + Company_Edit + \".com\"\n",
        "Email_Edit = Email_Address.lower()\n",
        "\n",
        "print(\"Your new email address is: \", Email_Edit)"
      ],
      "metadata": {
        "colab": {
          "base_uri": "https://localhost:8080/"
        },
        "id": "KhdA72Yu4OxF",
        "outputId": "7f879de7-d23a-4d57-a37a-8ec71f5ce331"
      },
      "execution_count": 20,
      "outputs": [
        {
          "output_type": "stream",
          "name": "stdout",
          "text": [
            "Please enter your name and surname: Alice Chan\n",
            "Please enter your company's name: XYZ\n",
            "Your new email address is:  alicechan@xyz.com\n"
          ]
        }
      ]
    },
    {
      "cell_type": "code",
      "source": [],
      "metadata": {
        "id": "-GAMM0nA4Oqt"
      },
      "execution_count": null,
      "outputs": []
    },
    {
      "cell_type": "markdown",
      "source": [
        "#BMI Calculator"
      ],
      "metadata": {
        "id": "qEq1uldrA0e0"
      }
    },
    {
      "cell_type": "code",
      "source": [
        "Height = float(input(\"Please enter your height(M): \"))\n",
        "Weight = int(input(\"Please enter your weight(KG): \"))\n",
        "\n",
        "BMI = Weight / Height ** 2\n",
        "print()\n",
        "print(\"Your BMI value is: \", BMI)"
      ],
      "metadata": {
        "colab": {
          "base_uri": "https://localhost:8080/"
        },
        "id": "ffVY2D6T4Ont",
        "outputId": "46e47d33-ea14-4fb2-e354-7ac8f9cf7d2d"
      },
      "execution_count": 22,
      "outputs": [
        {
          "output_type": "stream",
          "name": "stdout",
          "text": [
            "Please enter your height(M): 1.70\n",
            "Please enter your weight(KG): 90\n",
            "\n",
            "Your BMI value is:  31.14186851211073\n"
          ]
        }
      ]
    },
    {
      "cell_type": "code",
      "source": [],
      "metadata": {
        "id": "us3zBXH14Oh9"
      },
      "execution_count": null,
      "outputs": []
    },
    {
      "cell_type": "markdown",
      "source": [
        "# Tip Calculator"
      ],
      "metadata": {
        "id": "ZbDmue5AB3bb"
      }
    },
    {
      "cell_type": "code",
      "source": [
        "bill = float(input(\"What was the total bill? $\"))\n",
        "tip = int(input(\"How much tip would you like to give (% from total bill)? 10, 12 or 15? \"))\n",
        "people = int (input(\"How many people to split the bill? \"))\n",
        "\n",
        "tip_as_percent = tip/100\n",
        "total_tip_amount = bill * tip_as_percent\n",
        "\n",
        "total_bill = bill + total_tip_amount\n",
        "\n",
        "bill_per_person = total_bill / people\n",
        "final_amount = round(bill_per_person, 2)\n",
        "\n",
        "print(f\"Each person should pay: ${final_amount}\")"
      ],
      "metadata": {
        "colab": {
          "base_uri": "https://localhost:8080/"
        },
        "id": "RxK8y1jI4OX2",
        "outputId": "e3ec27c7-80e2-487e-c7d1-70392f67baa6"
      },
      "execution_count": 24,
      "outputs": [
        {
          "output_type": "stream",
          "name": "stdout",
          "text": [
            "What was the total bill? $50\n",
            "How much tip would you like to give (% from total bill)? 10, 12 or 15? 10\n",
            "How many people to split the bill? 4\n",
            "Each person should pay: $13.75\n"
          ]
        }
      ]
    },
    {
      "cell_type": "code",
      "source": [],
      "metadata": {
        "id": "glsXzBvm4OL1"
      },
      "execution_count": null,
      "outputs": []
    },
    {
      "cell_type": "markdown",
      "source": [
        "# Bottle Deposit"
      ],
      "metadata": {
        "id": "3B2MR55ZJEJa"
      }
    },
    {
      "cell_type": "code",
      "source": [
        "Less_deposit = 0.12\n",
        "More_deposit = 0.27\n",
        "\n",
        "less = int(input(\"How many containers 1 liter or less? : \"))\n",
        "more = int(input(\"How many containers more than 1 liter? : \"))\n",
        "\n",
        "refund = less * Less_deposit + more * More_deposit\n",
        "print(\"Your total refund will be $%.2f.\" % refund)"
      ],
      "metadata": {
        "colab": {
          "base_uri": "https://localhost:8080/"
        },
        "id": "RrwBxBj_4N5t",
        "outputId": "6b9224fa-a1b9-4fe3-f6e2-03999220a351"
      },
      "execution_count": 28,
      "outputs": [
        {
          "output_type": "stream",
          "name": "stdout",
          "text": [
            "How many containers 1 liter or less? : 1\n",
            "How many containers more than 1 liter? : 2\n",
            "Your total refund will be $0.66.\n"
          ]
        }
      ]
    },
    {
      "cell_type": "markdown",
      "source": [
        "#Name The Shape"
      ],
      "metadata": {
        "id": "-i-6QBr5MjHa"
      }
    },
    {
      "cell_type": "code",
      "source": [
        "Num_sides = int(input(\"Enter the number of side? :\"))\n",
        "\n",
        "name = \"\"\n",
        "if Num_sides==3:\n",
        "  name = \"triangle\"\n",
        "elif Num_sides==4:\n",
        "  name = \"quadrilateral\"\n",
        "elif Num_sides==5:\n",
        "  name = \"pentagon\"\n",
        "elif Num_sides==6:\n",
        "  name = \"hexagon\"\n",
        "elif Num_sides==7:\n",
        "  name = \"heptagon\"\n",
        "elif Num_sides==8:\n",
        "  name = \"octagon\"\n",
        "elif Num_sides==9:\n",
        "  name = \"nonagon\"\n",
        "elif Num_sides==10:\n",
        "  name = \"decagon\"\n",
        "\n",
        "if name == \"\":\n",
        "  print(\"That number of sides is not supported by this program\")\n",
        "else:\n",
        "  print(\"That's a\", name)"
      ],
      "metadata": {
        "colab": {
          "base_uri": "https://localhost:8080/"
        },
        "id": "SoxqHCt1M1kA",
        "outputId": "2048b937-0e45-4771-c495-7a2c0045e222"
      },
      "execution_count": 30,
      "outputs": [
        {
          "output_type": "stream",
          "name": "stdout",
          "text": [
            "Enter the number of side? :9\n",
            "That's a nonagon\n"
          ]
        }
      ]
    },
    {
      "cell_type": "markdown",
      "source": [
        "#Admission Price"
      ],
      "metadata": {
        "id": "s0VkC61cPiNZ"
      }
    },
    {
      "cell_type": "code",
      "source": [
        "BABY_PRICE = 0.00\n",
        "CHILD_PRICE = 10.00\n",
        "ADULT_PRICE = 20.00\n",
        "SENIOR_PRICE = 16.00\n",
        "\n",
        "BABY_LIMIT = 2\n",
        "CHILD_LIMIT = 12\n",
        "ADULT_LIMIT =64\n",
        "\n",
        "total = 0"
      ],
      "metadata": {
        "id": "Fat5AyjHPhrh"
      },
      "execution_count": 32,
      "outputs": []
    },
    {
      "cell_type": "code",
      "source": [
        "line = input(\"Enter the age of the guest: \")\n",
        "while line !=\"\":\n",
        "  age = int(line)\n",
        "  if age  <= BABY_LIMIT:\n",
        "    total = total + BABY_PRICE\n",
        "  elif age <= CHILD_LIMIT:\n",
        "    total = total + CHILD_PRICE\n",
        "  elif age <= ADULT_LIMIT:\n",
        "    total = total + ADULT_PRICE\n",
        "  else:\n",
        "    total = total + SENIOR_PRICE\n",
        "  line = input(\"Enter the age of guest: \")\n",
        "print(\"The total for that group is $%.2f\" %total)"
      ],
      "metadata": {
        "colab": {
          "base_uri": "https://localhost:8080/"
        },
        "id": "yxr9wgD_kcII",
        "outputId": "0083a6e1-58ce-4f18-ee1a-7fdfd134f80b"
      },
      "execution_count": 37,
      "outputs": [
        {
          "output_type": "stream",
          "name": "stdout",
          "text": [
            "Enter the age of the guest: 2\n",
            "Enter the age of guest: 2\n",
            "Enter the age of guest: 33\n",
            "Enter the age of guest: \n",
            "The total for that group is $110.00\n"
          ]
        }
      ]
    },
    {
      "cell_type": "markdown",
      "source": [
        "#Note to Frequency"
      ],
      "metadata": {
        "id": "AdnA9ZAKA1LQ"
      }
    },
    {
      "cell_type": "code",
      "source": [
        "C4_FREQ = 261.63\n",
        "D4_FREQ = 293.66\n",
        "E4_FREQ = 329.63\n",
        "F4_FREQ = 349.23\n",
        "G4_FREQ = 392.00\n",
        "A4_FREQ = 440.00\n",
        "B4_FREQ = 493.88"
      ],
      "metadata": {
        "id": "p2sZurRqA0YZ"
      },
      "execution_count": 1,
      "outputs": []
    },
    {
      "cell_type": "code",
      "source": [
        "name = input(\"Enter Freq code [A-G4]: \")\n",
        "note = name[0]\n",
        "octave = int (name[1])\n",
        "\n",
        "if note == \"C\":\n",
        "  freq = C4_FREQ\n",
        "if note == \"D\":\n",
        "  freq = D4_FREQ\n",
        "if note == \"E\":\n",
        "  freq = E4_FREQ\n",
        "if note == \"F\":\n",
        "  freq = F4_FREQ\n",
        "if note == \"G\":\n",
        "  freq = G4_FREQ\n",
        "if note == \"A\":\n",
        "  freq = A4_FREQ\n",
        "if note == \"B\":\n",
        "  freq = B4_FREQ\n",
        "freq = freq / 2 **(4 - octave)\n",
        "\n",
        "print(\"The frequency of\", name, \"is\", freq)\n",
        "\n",
        ""
      ],
      "metadata": {
        "colab": {
          "base_uri": "https://localhost:8080/"
        },
        "id": "jaQBaIGKBYYt",
        "outputId": "df9c3c5d-0d37-41d7-bd9d-59bd0129d6d5"
      },
      "execution_count": 5,
      "outputs": [
        {
          "output_type": "stream",
          "name": "stdout",
          "text": [
            "Enter Freq code [A-G4]: B4\n",
            "The frequency of B4 is 493.88\n"
          ]
        }
      ]
    },
    {
      "cell_type": "markdown",
      "source": [
        "#Frequency to Note"
      ],
      "metadata": {
        "id": "ycxOWy6OJltm"
      }
    },
    {
      "cell_type": "code",
      "source": [
        "C4_FREQ = 261.63\n",
        "D4_FREQ = 293.66\n",
        "E4_FREQ = 329.63\n",
        "F4_FREQ = 349.23\n",
        "G4_FREQ = 392.00\n",
        "A4_FREQ = 440.00\n",
        "B4_FREQ = 493.88\n",
        "LIMIT = 5.0"
      ],
      "metadata": {
        "id": "O1b3zkmoJlYm"
      },
      "execution_count": 61,
      "outputs": []
    },
    {
      "cell_type": "code",
      "source": [
        "freq = float(input(\"Enter a frequency (Hz): \"))\n",
        "if (freq >= C4_FREQ - LIMIT) and (freq <= C4_FREQ + LIMIT):\n",
        "  note = \"C4\"\n",
        "elif (freq >= D4_FREQ - LIMIT) and (freq <= D4_FREQ + LIMIT):\n",
        "  note = \"D4\"\n",
        "elif (freq >= E4_FREQ - LIMIT) and (freq <= E4_FREQ + LIMIT):\n",
        "  note = \"E4\"\n",
        "elif (freq >= F4_FREQ - LIMIT) and (freq <= F4_FREQ + LIMIT):\n",
        "  note = \"F4\"\n",
        "elif (freq >= G4_FREQ - LIMIT) and (freq <= G4_FREQ + LIMIT):\n",
        "  note = \"G4\"\n",
        "elif (freq >= A4_FREQ - LIMIT) and (freq <= A4_FREQ + LIMIT):\n",
        "  note = \"A4\"\n",
        "elif (freq >= B4_FREQ - LIMIT) and (freq <= B4_FREQ + LIMIT):\n",
        "  note = \"B4\"\n",
        "else:\n",
        "  note = \"There is no note that corresponds to that frequency or set greater LIMIT\"\n",
        "print(\"That frequency is \", note)"
      ],
      "metadata": {
        "colab": {
          "base_uri": "https://localhost:8080/"
        },
        "id": "CRrgZmKUJlEu",
        "outputId": "a6fbbd5b-a56b-44a7-b019-38c8e7ecd9b7"
      },
      "execution_count": 63,
      "outputs": [
        {
          "output_type": "stream",
          "name": "stdout",
          "text": [
            "Enter a frequency (Hz): 444\n",
            "That frequency is  A4\n"
          ]
        }
      ]
    },
    {
      "cell_type": "markdown",
      "source": [
        "#Parity Bits"
      ],
      "metadata": {
        "id": "oUOPRe9wjg-a"
      }
    },
    {
      "cell_type": "code",
      "source": [
        "line = input(\"Enter 8 bits: \")\n",
        "while line != \"\":\n",
        "  if line.count(\"0\") + line.count(\"1\")!= 8:\n",
        "    print(\"That wasn't 8 bits ... Try again.\")\n",
        "  else:\n",
        "    ones = line.count(\"1\")\n",
        "    if ones %2 == 0:\n",
        "      print(\"The parity bit should be 0.\")\n",
        "    else:\n",
        "      print(\"The parity bit should be 1.\")\n",
        "  line=input(\"Enter 8 bits: \")\n"
      ],
      "metadata": {
        "colab": {
          "base_uri": "https://localhost:8080/"
        },
        "id": "4UH2LT2IjgWa",
        "outputId": "0bfd09ff-06f9-491c-ca2a-9aced740ad50"
      },
      "execution_count": 68,
      "outputs": [
        {
          "name": "stdout",
          "output_type": "stream",
          "text": [
            "Enter 8 bits: 000000000\n",
            "That wasn't 8 bits ... Try again.\n",
            "Enter 8 bits: 11001100\n",
            "The parity bit should be 0.\n",
            "Enter 8 bits: 001100111\n",
            "That wasn't 8 bits ... Try again.\n",
            "Enter 8 bits: \n"
          ]
        }
      ]
    },
    {
      "cell_type": "markdown",
      "source": [
        "# Reduce a Fraction to Lowest Terms\n"
      ],
      "metadata": {
        "id": "NFiQfbeh4W4G"
      }
    },
    {
      "cell_type": "code",
      "execution_count": 9,
      "metadata": {
        "id": "Ih-H6cDInily"
      },
      "outputs": [],
      "source": [
        "def gcd(n,m):\n",
        "  d = min(n,m)\n",
        "  while n % d !=0 or m % d !=0:\n",
        "    d = d-1\n",
        "  return d"
      ]
    },
    {
      "cell_type": "code",
      "source": [
        "def reduce (num,den):\n",
        "  if num == 0:\n",
        "    return(0,1)\n",
        "  g = gcd(num,den)\n",
        "  return (num // g, den // g)"
      ],
      "metadata": {
        "id": "rgYZ7CeXoMac"
      },
      "execution_count": 5,
      "outputs": []
    },
    {
      "cell_type": "code",
      "source": [
        "def main ():\n",
        "  num = int(input(\"Enter the numerator: \"))\n",
        "  den = int(input(\"Enter the denominator: \"))\n",
        "  n,d = reduce(num,den)\n",
        "  print(\"%d/%d can be reduced to %d/%d.\" % (num,den,n,d))"
      ],
      "metadata": {
        "id": "N53-GvBVpiP9"
      },
      "execution_count": 13,
      "outputs": []
    },
    {
      "cell_type": "code",
      "source": [
        "main()"
      ],
      "metadata": {
        "colab": {
          "base_uri": "https://localhost:8080/"
        },
        "id": "Hb0LjoUeqaWV",
        "outputId": "e47fafaa-fc75-4a6f-f857-180d0280d55a"
      },
      "execution_count": 21,
      "outputs": [
        {
          "output_type": "stream",
          "name": "stdout",
          "text": [
            "enter the numerator: 121\n",
            "Enter the denominator: 11\n",
            "121/11 can be reduced to 11/1.\n"
          ]
        }
      ]
    },
    {
      "cell_type": "code",
      "source": [],
      "metadata": {
        "id": "6mieZSCKqb7X"
      },
      "execution_count": 17,
      "outputs": []
    },
    {
      "cell_type": "markdown",
      "source": [],
      "metadata": {
        "id": "S5P9N7V9o-8A"
      }
    }
  ]
}