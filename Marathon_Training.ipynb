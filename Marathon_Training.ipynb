{
  "nbformat": 4,
  "nbformat_minor": 0,
  "metadata": {
    "colab": {
      "provenance": [],
      "toc_visible": true,
      "authorship_tag": "ABX9TyNOb33+/JgDNRy3oLexGOrl",
      "include_colab_link": true
    },
    "kernelspec": {
      "name": "python3",
      "display_name": "Python 3"
    },
    "language_info": {
      "name": "python"
    }
  },
  "cells": [
    {
      "cell_type": "markdown",
      "metadata": {
        "id": "view-in-github",
        "colab_type": "text"
      },
      "source": [
        "<a href=\"https://colab.research.google.com/github/greatfathan/Python-Marathon-Training/blob/main/Marathon_Training.ipynb\" target=\"_parent\"><img src=\"https://colab.research.google.com/assets/colab-badge.svg\" alt=\"Open In Colab\"/></a>"
      ]
    },
    {
      "cell_type": "code",
      "execution_count": 9,
      "metadata": {
        "id": "Ih-H6cDInily"
      },
      "outputs": [],
      "source": [
        "def gcd(n,m):\n",
        "  d = min(n,m)\n",
        "  while n % d !=0 or m % d !=0:\n",
        "    d = d-1\n",
        "  return d"
      ]
    },
    {
      "cell_type": "code",
      "source": [
        "def reduce (num,den):\n",
        "  if num == 0:\n",
        "    return(0,1)\n",
        "  g = gcd(num,den)\n",
        "  return (num // g, den // g)"
      ],
      "metadata": {
        "id": "rgYZ7CeXoMac"
      },
      "execution_count": 5,
      "outputs": []
    },
    {
      "cell_type": "code",
      "source": [
        "def main ():\n",
        "  num = int(input(\"enter the numerator: \"))\n",
        "  den = int(input(\"Enter the denominator: \"))\n",
        "  n,d = reduce(num,den)\n",
        "  print(\"%d/%d can be reduced to %d/%d.\" % (num,den,n,d))"
      ],
      "metadata": {
        "id": "N53-GvBVpiP9"
      },
      "execution_count": 13,
      "outputs": []
    },
    {
      "cell_type": "code",
      "source": [
        "main()"
      ],
      "metadata": {
        "colab": {
          "base_uri": "https://localhost:8080/"
        },
        "id": "Hb0LjoUeqaWV",
        "outputId": "6ab968a0-360c-40b8-e2ee-ce4eb8167b9f"
      },
      "execution_count": 19,
      "outputs": [
        {
          "output_type": "stream",
          "name": "stdout",
          "text": [
            "enter the numerator: 222\n",
            "Enter the denominator: 2\n",
            "222/2 can be reduced to 111/1.\n"
          ]
        }
      ]
    },
    {
      "cell_type": "code",
      "source": [],
      "metadata": {
        "id": "6mieZSCKqb7X"
      },
      "execution_count": 17,
      "outputs": []
    }
  ]
}